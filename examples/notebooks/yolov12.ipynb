{
 "cells": [
  {
   "cell_type": "markdown",
   "id": "0",
   "metadata": {},
   "source": [
    "# LightlyTrain with YOLOv12"
   ]
  },
  {
   "cell_type": "markdown",
   "id": "1",
   "metadata": {},
   "source": [
    "Intro and links"
   ]
  },
  {
   "cell_type": "markdown",
   "id": "2",
   "metadata": {},
   "source": [
    "> **Note:**\n",
    "> YOLOv12 is a custom fork of a specific version of the Ultralytics package. For this reason, YOLOv12 is not fully integrated with LightlyTrain and has to be installed manually."
   ]
  },
  {
   "cell_type": "markdown",
   "id": "3",
   "metadata": {},
   "source": [
    "# Installation"
   ]
  },
  {
   "cell_type": "code",
   "execution_count": null,
   "id": "4",
   "metadata": {},
   "outputs": [],
   "source": [
    "!pip install lightly_train"
   ]
  },
  {
   "cell_type": "markdown",
   "id": "5",
   "metadata": {},
   "source": [
    "> **Important**: LightlyTrain is officially supported on\n",
    "> - Linux: CPU or CUDA\n",
    "> - MacOS: CPU only\n",
    "> - Windows (experimental): CPU or CUDA\n",
    "> \n",
    "> We are planning to support MPS for MacOS.\n",
    "> \n",
    "> Check the installation instructions for more details on installation."
   ]
  },
  {
   "cell_type": "markdown",
   "id": "6",
   "metadata": {},
   "source": [
    "Please install YOLOv12 directly from GitHub through:"
   ]
  },
  {
   "cell_type": "code",
   "execution_count": null,
   "id": "7",
   "metadata": {},
   "outputs": [],
   "source": [
    "!pip install git+https://github.com/sunsmarterjie/yolov12"
   ]
  },
  {
   "cell_type": "markdown",
   "id": "8",
   "metadata": {},
   "source": [
    "In case you are facing a version mismatch issue using CUDA and FlashAttention:\n",
    "\n",
    "```bash\n",
    "FlashAttention is not available on this device. Using scaled_dot_product_attention instead.\n",
    "```\n",
    "\n",
    "you can fix it by running the following commands:"
   ]
  },
  {
   "cell_type": "code",
   "execution_count": null,
   "id": "9",
   "metadata": {},
   "outputs": [],
   "source": [
    "!pip install flash-attn --no-build-isolation"
   ]
  },
  {
   "cell_type": "markdown",
   "id": "10",
   "metadata": {},
   "source": [
    "You can verify the results by:"
   ]
  },
  {
   "cell_type": "code",
   "execution_count": null,
   "id": "11",
   "metadata": {},
   "outputs": [],
   "source": [
    "import flash_attn\n",
    "print('FlashAttention version:', flash_attn.__version__)"
   ]
  },
  {
   "cell_type": "markdown",
   "id": "12",
   "metadata": {},
   "source": [
    "and a successful installation will give you:\n",
    "\n",
    "```bash\n",
    "FlashAttention version: <some-version>\n",
    "```\n",
    "\n",
    "See this [GitHub issue](https://github.com/sunsmarterjie/yolov12/issues/66) for more information."
   ]
  },
  {
   "cell_type": "markdown",
   "id": "13",
   "metadata": {},
   "source": [
    "# Pretrain and Fine-tune a YOLOv12 Model"
   ]
  },
  {
   "cell_type": "markdown",
   "id": "14",
   "metadata": {},
   "source": [
    "Pretraining or fine-tuning a YOLOv12 model is the same as doing so with any supported Ultralytics model. The only difference is that the config file is named yolov12.yaml instead of yolo12.yaml in the official Ultralytics releases.\n",
    "\n",
    "Below we will provide the minimum scripts for pretraining and fine-tuning:\n",
    "\n",
    "## Pretrain"
   ]
  },
  {
   "cell_type": "code",
   "execution_count": null,
   "id": "15",
   "metadata": {},
   "outputs": [],
   "source": [
    "import lightly_train\n",
    "\n",
    "if __name__ == \"__main__\":\n",
    "    lightly_train.train(\n",
    "        out=\"out/my_experiment\",                # Output directory.\n",
    "        data=\"my_data_dir\",                     # Directory with images.\n",
    "        model=\"ultralytics/yolov12s.yaml\",      # Pass the YOLO model.\n",
    "    )"
   ]
  },
  {
   "cell_type": "markdown",
   "id": "16",
   "metadata": {},
   "source": [
    "## Fine-tune"
   ]
  },
  {
   "cell_type": "code",
   "execution_count": null,
   "id": "17",
   "metadata": {},
   "outputs": [],
   "source": [
    "from pathlib import Path\n",
    "\n",
    "from ultralytics import YOLO\n",
    "\n",
    "if __name__ == \"__main__\":\n",
    "    # Load the exported model.\n",
    "    model = YOLO(\"out/my_experiment/exported_models/exported_last.pt\")\n",
    "\n",
    "    # Fine-tune with ultralytics.\n",
    "    data = Path(\"my_data_dir/config.yaml\").absolute()\n",
    "    model.train(data=data)"
   ]
  }
 ],
 "metadata": {
  "kernelspec": {
   "display_name": "python3",
   "language": "python",
   "name": "python3"
  }
 },
 "nbformat": 4,
 "nbformat_minor": 5
}
